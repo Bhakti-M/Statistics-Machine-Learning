{
  "nbformat": 4,
  "nbformat_minor": 0,
  "metadata": {
    "colab": {
      "provenance": [],
      "authorship_tag": "ABX9TyPQGASGsxHXHJZr0z95QJBh",
      "include_colab_link": true
    },
    "kernelspec": {
      "name": "python3",
      "display_name": "Python 3"
    },
    "language_info": {
      "name": "python"
    }
  },
  "cells": [
    {
      "cell_type": "markdown",
      "metadata": {
        "id": "view-in-github",
        "colab_type": "text"
      },
      "source": [
        "<a href=\"https://colab.research.google.com/github/Bhakti-M/Statistics-Machine-Learning/blob/main/Exam.ipynb\" target=\"_parent\"><img src=\"https://colab.research.google.com/assets/colab-badge.svg\" alt=\"Open In Colab\"/></a>"
      ]
    },
    {
      "cell_type": "markdown",
      "source": [
        "#1.Problem Statement and Objectives\n",
        "\n",
        "The dataset that i have uploaded is contains information about students' academic performance,It also contains missing values in some numeric features  which may bias our analysis if not handled properly. Additionally, the dataset includes categorical variables that need to be encoded for machine learning models. The problem is to preprocess the dataset effectively, handle missing values, encode categorical variables, and build predictive models to classify students into \"high\" or \"low\" performance categories based on their total scores."
      ],
      "metadata": {
        "id": "FULgUZTFNYD-"
      }
    },
    {
      "cell_type": "code",
      "source": [
        "import pandas as pd\n",
        "import numpy as np\n",
        "import matplotlib.pyplot as plt\n",
        "import seaborn as sns\n",
        "from sklearn.model_selection import train_test_split\n",
        "from sklearn.preprocessing import StandardScaler,  LabelEncoder\n",
        "from sklearn.impute import SimpleImputer\n",
        "from sklearn.feature_selection import SelectKBest, chi2\n",
        "from sklearn.metrics import accuracy_score, precision_score, recall_score, f1_score, confusion_matrix\n",
        "from sklearn.linear_model import LogisticRegression\n",
        "from sklearn.linear_model import LinearRegression\n",
        "from sklearn.feature_selection import f_regression\n",
        "from sklearn.feature_selection import RFE\n",
        "from sklearn.ensemble import RandomForestClassifier\n",
        "from sklearn.neural_network import MLPClassifier\n",
        "from sklearn.pipeline import Pipeline\n",
        "from sklearn.compose import ColumnTransformer"
      ],
      "metadata": {
        "id": "oJN3lAZ8NZYK"
      },
      "execution_count": null,
      "outputs": []
    },
    {
      "cell_type": "markdown",
      "source": [
        "#2.Dataset Exploration and Preprocessing\n",
        "\n"
      ],
      "metadata": {
        "id": "QDxl5ESCNg6W"
      }
    },
    {
      "cell_type": "markdown",
      "source": [
        "A.  Explore the Dataset:"
      ],
      "metadata": {
        "id": "EZACZSt5W6I4"
      }
    },
    {
      "cell_type": "code",
      "source": [
        "df = pd.read_csv('/content/StudentsPerformance.csv')\n",
        "\n",
        "# Display the first few rows of the dataset\n",
        "df.head()"
      ],
      "metadata": {
        "colab": {
          "base_uri": "https://localhost:8080/",
          "height": 206
        },
        "id": "-DMSdipHNiiD",
        "outputId": "5b4035d9-33e0-4987-ec93-2d55a0a5307a"
      },
      "execution_count": null,
      "outputs": [
        {
          "output_type": "execute_result",
          "data": {
            "text/plain": [
              "   gender race/ethnicity parental level of education         lunch  \\\n",
              "0  female        group B           bachelor's degree      standard   \n",
              "1  female        group C                some college      standard   \n",
              "2  female        group B             master's degree      standard   \n",
              "3    male        group A          associate's degree  free/reduced   \n",
              "4    male        group C                some college      standard   \n",
              "\n",
              "  test preparation course  math score  reading score  writing score  \n",
              "0                    none        72.0             72             74  \n",
              "1               completed        69.0             90             88  \n",
              "2                    none        90.0             95             93  \n",
              "3                    none        47.0             57             44  \n",
              "4                    none        76.0             78             75  "
            ],
            "text/html": [
              "\n",
              "  <div id=\"df-b72834e7-a9a7-4377-87fb-9036fd200d84\" class=\"colab-df-container\">\n",
              "    <div>\n",
              "<style scoped>\n",
              "    .dataframe tbody tr th:only-of-type {\n",
              "        vertical-align: middle;\n",
              "    }\n",
              "\n",
              "    .dataframe tbody tr th {\n",
              "        vertical-align: top;\n",
              "    }\n",
              "\n",
              "    .dataframe thead th {\n",
              "        text-align: right;\n",
              "    }\n",
              "</style>\n",
              "<table border=\"1\" class=\"dataframe\">\n",
              "  <thead>\n",
              "    <tr style=\"text-align: right;\">\n",
              "      <th></th>\n",
              "      <th>gender</th>\n",
              "      <th>race/ethnicity</th>\n",
              "      <th>parental level of education</th>\n",
              "      <th>lunch</th>\n",
              "      <th>test preparation course</th>\n",
              "      <th>math score</th>\n",
              "      <th>reading score</th>\n",
              "      <th>writing score</th>\n",
              "    </tr>\n",
              "  </thead>\n",
              "  <tbody>\n",
              "    <tr>\n",
              "      <th>0</th>\n",
              "      <td>female</td>\n",
              "      <td>group B</td>\n",
              "      <td>bachelor's degree</td>\n",
              "      <td>standard</td>\n",
              "      <td>none</td>\n",
              "      <td>72.0</td>\n",
              "      <td>72</td>\n",
              "      <td>74</td>\n",
              "    </tr>\n",
              "    <tr>\n",
              "      <th>1</th>\n",
              "      <td>female</td>\n",
              "      <td>group C</td>\n",
              "      <td>some college</td>\n",
              "      <td>standard</td>\n",
              "      <td>completed</td>\n",
              "      <td>69.0</td>\n",
              "      <td>90</td>\n",
              "      <td>88</td>\n",
              "    </tr>\n",
              "    <tr>\n",
              "      <th>2</th>\n",
              "      <td>female</td>\n",
              "      <td>group B</td>\n",
              "      <td>master's degree</td>\n",
              "      <td>standard</td>\n",
              "      <td>none</td>\n",
              "      <td>90.0</td>\n",
              "      <td>95</td>\n",
              "      <td>93</td>\n",
              "    </tr>\n",
              "    <tr>\n",
              "      <th>3</th>\n",
              "      <td>male</td>\n",
              "      <td>group A</td>\n",
              "      <td>associate's degree</td>\n",
              "      <td>free/reduced</td>\n",
              "      <td>none</td>\n",
              "      <td>47.0</td>\n",
              "      <td>57</td>\n",
              "      <td>44</td>\n",
              "    </tr>\n",
              "    <tr>\n",
              "      <th>4</th>\n",
              "      <td>male</td>\n",
              "      <td>group C</td>\n",
              "      <td>some college</td>\n",
              "      <td>standard</td>\n",
              "      <td>none</td>\n",
              "      <td>76.0</td>\n",
              "      <td>78</td>\n",
              "      <td>75</td>\n",
              "    </tr>\n",
              "  </tbody>\n",
              "</table>\n",
              "</div>\n",
              "    <div class=\"colab-df-buttons\">\n",
              "\n",
              "  <div class=\"colab-df-container\">\n",
              "    <button class=\"colab-df-convert\" onclick=\"convertToInteractive('df-b72834e7-a9a7-4377-87fb-9036fd200d84')\"\n",
              "            title=\"Convert this dataframe to an interactive table.\"\n",
              "            style=\"display:none;\">\n",
              "\n",
              "  <svg xmlns=\"http://www.w3.org/2000/svg\" height=\"24px\" viewBox=\"0 -960 960 960\">\n",
              "    <path d=\"M120-120v-720h720v720H120Zm60-500h600v-160H180v160Zm220 220h160v-160H400v160Zm0 220h160v-160H400v160ZM180-400h160v-160H180v160Zm440 0h160v-160H620v160ZM180-180h160v-160H180v160Zm440 0h160v-160H620v160Z\"/>\n",
              "  </svg>\n",
              "    </button>\n",
              "\n",
              "  <style>\n",
              "    .colab-df-container {\n",
              "      display:flex;\n",
              "      gap: 12px;\n",
              "    }\n",
              "\n",
              "    .colab-df-convert {\n",
              "      background-color: #E8F0FE;\n",
              "      border: none;\n",
              "      border-radius: 50%;\n",
              "      cursor: pointer;\n",
              "      display: none;\n",
              "      fill: #1967D2;\n",
              "      height: 32px;\n",
              "      padding: 0 0 0 0;\n",
              "      width: 32px;\n",
              "    }\n",
              "\n",
              "    .colab-df-convert:hover {\n",
              "      background-color: #E2EBFA;\n",
              "      box-shadow: 0px 1px 2px rgba(60, 64, 67, 0.3), 0px 1px 3px 1px rgba(60, 64, 67, 0.15);\n",
              "      fill: #174EA6;\n",
              "    }\n",
              "\n",
              "    .colab-df-buttons div {\n",
              "      margin-bottom: 4px;\n",
              "    }\n",
              "\n",
              "    [theme=dark] .colab-df-convert {\n",
              "      background-color: #3B4455;\n",
              "      fill: #D2E3FC;\n",
              "    }\n",
              "\n",
              "    [theme=dark] .colab-df-convert:hover {\n",
              "      background-color: #434B5C;\n",
              "      box-shadow: 0px 1px 3px 1px rgba(0, 0, 0, 0.15);\n",
              "      filter: drop-shadow(0px 1px 2px rgba(0, 0, 0, 0.3));\n",
              "      fill: #FFFFFF;\n",
              "    }\n",
              "  </style>\n",
              "\n",
              "    <script>\n",
              "      const buttonEl =\n",
              "        document.querySelector('#df-b72834e7-a9a7-4377-87fb-9036fd200d84 button.colab-df-convert');\n",
              "      buttonEl.style.display =\n",
              "        google.colab.kernel.accessAllowed ? 'block' : 'none';\n",
              "\n",
              "      async function convertToInteractive(key) {\n",
              "        const element = document.querySelector('#df-b72834e7-a9a7-4377-87fb-9036fd200d84');\n",
              "        const dataTable =\n",
              "          await google.colab.kernel.invokeFunction('convertToInteractive',\n",
              "                                                    [key], {});\n",
              "        if (!dataTable) return;\n",
              "\n",
              "        const docLinkHtml = 'Like what you see? Visit the ' +\n",
              "          '<a target=\"_blank\" href=https://colab.research.google.com/notebooks/data_table.ipynb>data table notebook</a>'\n",
              "          + ' to learn more about interactive tables.';\n",
              "        element.innerHTML = '';\n",
              "        dataTable['output_type'] = 'display_data';\n",
              "        await google.colab.output.renderOutput(dataTable, element);\n",
              "        const docLink = document.createElement('div');\n",
              "        docLink.innerHTML = docLinkHtml;\n",
              "        element.appendChild(docLink);\n",
              "      }\n",
              "    </script>\n",
              "  </div>\n",
              "\n",
              "\n",
              "<div id=\"df-cf30780b-8900-468e-bc48-78e4cdbc09bf\">\n",
              "  <button class=\"colab-df-quickchart\" onclick=\"quickchart('df-cf30780b-8900-468e-bc48-78e4cdbc09bf')\"\n",
              "            title=\"Suggest charts\"\n",
              "            style=\"display:none;\">\n",
              "\n",
              "<svg xmlns=\"http://www.w3.org/2000/svg\" height=\"24px\"viewBox=\"0 0 24 24\"\n",
              "     width=\"24px\">\n",
              "    <g>\n",
              "        <path d=\"M19 3H5c-1.1 0-2 .9-2 2v14c0 1.1.9 2 2 2h14c1.1 0 2-.9 2-2V5c0-1.1-.9-2-2-2zM9 17H7v-7h2v7zm4 0h-2V7h2v10zm4 0h-2v-4h2v4z\"/>\n",
              "    </g>\n",
              "</svg>\n",
              "  </button>\n",
              "\n",
              "<style>\n",
              "  .colab-df-quickchart {\n",
              "      --bg-color: #E8F0FE;\n",
              "      --fill-color: #1967D2;\n",
              "      --hover-bg-color: #E2EBFA;\n",
              "      --hover-fill-color: #174EA6;\n",
              "      --disabled-fill-color: #AAA;\n",
              "      --disabled-bg-color: #DDD;\n",
              "  }\n",
              "\n",
              "  [theme=dark] .colab-df-quickchart {\n",
              "      --bg-color: #3B4455;\n",
              "      --fill-color: #D2E3FC;\n",
              "      --hover-bg-color: #434B5C;\n",
              "      --hover-fill-color: #FFFFFF;\n",
              "      --disabled-bg-color: #3B4455;\n",
              "      --disabled-fill-color: #666;\n",
              "  }\n",
              "\n",
              "  .colab-df-quickchart {\n",
              "    background-color: var(--bg-color);\n",
              "    border: none;\n",
              "    border-radius: 50%;\n",
              "    cursor: pointer;\n",
              "    display: none;\n",
              "    fill: var(--fill-color);\n",
              "    height: 32px;\n",
              "    padding: 0;\n",
              "    width: 32px;\n",
              "  }\n",
              "\n",
              "  .colab-df-quickchart:hover {\n",
              "    background-color: var(--hover-bg-color);\n",
              "    box-shadow: 0 1px 2px rgba(60, 64, 67, 0.3), 0 1px 3px 1px rgba(60, 64, 67, 0.15);\n",
              "    fill: var(--button-hover-fill-color);\n",
              "  }\n",
              "\n",
              "  .colab-df-quickchart-complete:disabled,\n",
              "  .colab-df-quickchart-complete:disabled:hover {\n",
              "    background-color: var(--disabled-bg-color);\n",
              "    fill: var(--disabled-fill-color);\n",
              "    box-shadow: none;\n",
              "  }\n",
              "\n",
              "  .colab-df-spinner {\n",
              "    border: 2px solid var(--fill-color);\n",
              "    border-color: transparent;\n",
              "    border-bottom-color: var(--fill-color);\n",
              "    animation:\n",
              "      spin 1s steps(1) infinite;\n",
              "  }\n",
              "\n",
              "  @keyframes spin {\n",
              "    0% {\n",
              "      border-color: transparent;\n",
              "      border-bottom-color: var(--fill-color);\n",
              "      border-left-color: var(--fill-color);\n",
              "    }\n",
              "    20% {\n",
              "      border-color: transparent;\n",
              "      border-left-color: var(--fill-color);\n",
              "      border-top-color: var(--fill-color);\n",
              "    }\n",
              "    30% {\n",
              "      border-color: transparent;\n",
              "      border-left-color: var(--fill-color);\n",
              "      border-top-color: var(--fill-color);\n",
              "      border-right-color: var(--fill-color);\n",
              "    }\n",
              "    40% {\n",
              "      border-color: transparent;\n",
              "      border-right-color: var(--fill-color);\n",
              "      border-top-color: var(--fill-color);\n",
              "    }\n",
              "    60% {\n",
              "      border-color: transparent;\n",
              "      border-right-color: var(--fill-color);\n",
              "    }\n",
              "    80% {\n",
              "      border-color: transparent;\n",
              "      border-right-color: var(--fill-color);\n",
              "      border-bottom-color: var(--fill-color);\n",
              "    }\n",
              "    90% {\n",
              "      border-color: transparent;\n",
              "      border-bottom-color: var(--fill-color);\n",
              "    }\n",
              "  }\n",
              "</style>\n",
              "\n",
              "  <script>\n",
              "    async function quickchart(key) {\n",
              "      const quickchartButtonEl =\n",
              "        document.querySelector('#' + key + ' button');\n",
              "      quickchartButtonEl.disabled = true;  // To prevent multiple clicks.\n",
              "      quickchartButtonEl.classList.add('colab-df-spinner');\n",
              "      try {\n",
              "        const charts = await google.colab.kernel.invokeFunction(\n",
              "            'suggestCharts', [key], {});\n",
              "      } catch (error) {\n",
              "        console.error('Error during call to suggestCharts:', error);\n",
              "      }\n",
              "      quickchartButtonEl.classList.remove('colab-df-spinner');\n",
              "      quickchartButtonEl.classList.add('colab-df-quickchart-complete');\n",
              "    }\n",
              "    (() => {\n",
              "      let quickchartButtonEl =\n",
              "        document.querySelector('#df-cf30780b-8900-468e-bc48-78e4cdbc09bf button');\n",
              "      quickchartButtonEl.style.display =\n",
              "        google.colab.kernel.accessAllowed ? 'block' : 'none';\n",
              "    })();\n",
              "  </script>\n",
              "</div>\n",
              "\n",
              "    </div>\n",
              "  </div>\n"
            ],
            "application/vnd.google.colaboratory.intrinsic+json": {
              "type": "dataframe",
              "variable_name": "df",
              "summary": "{\n  \"name\": \"df\",\n  \"rows\": 1000,\n  \"fields\": [\n    {\n      \"column\": \"gender\",\n      \"properties\": {\n        \"dtype\": \"category\",\n        \"num_unique_values\": 2,\n        \"samples\": [\n          \"male\",\n          \"female\"\n        ],\n        \"semantic_type\": \"\",\n        \"description\": \"\"\n      }\n    },\n    {\n      \"column\": \"race/ethnicity\",\n      \"properties\": {\n        \"dtype\": \"category\",\n        \"num_unique_values\": 5,\n        \"samples\": [\n          \"group C\",\n          \"group E\"\n        ],\n        \"semantic_type\": \"\",\n        \"description\": \"\"\n      }\n    },\n    {\n      \"column\": \"parental level of education\",\n      \"properties\": {\n        \"dtype\": \"category\",\n        \"num_unique_values\": 6,\n        \"samples\": [\n          \"bachelor's degree\",\n          \"some college\"\n        ],\n        \"semantic_type\": \"\",\n        \"description\": \"\"\n      }\n    },\n    {\n      \"column\": \"lunch\",\n      \"properties\": {\n        \"dtype\": \"category\",\n        \"num_unique_values\": 2,\n        \"samples\": [\n          \"free/reduced\",\n          \"standard\"\n        ],\n        \"semantic_type\": \"\",\n        \"description\": \"\"\n      }\n    },\n    {\n      \"column\": \"test preparation course\",\n      \"properties\": {\n        \"dtype\": \"category\",\n        \"num_unique_values\": 2,\n        \"samples\": [\n          \"completed\",\n          \"none\"\n        ],\n        \"semantic_type\": \"\",\n        \"description\": \"\"\n      }\n    },\n    {\n      \"column\": \"math score\",\n      \"properties\": {\n        \"dtype\": \"number\",\n        \"std\": 15.114485146740439,\n        \"min\": 0.0,\n        \"max\": 100.0,\n        \"num_unique_values\": 81,\n        \"samples\": [\n          53.0,\n          72.0\n        ],\n        \"semantic_type\": \"\",\n        \"description\": \"\"\n      }\n    },\n    {\n      \"column\": \"reading score\",\n      \"properties\": {\n        \"dtype\": \"number\",\n        \"std\": 14,\n        \"min\": 17,\n        \"max\": 100,\n        \"num_unique_values\": 72,\n        \"samples\": [\n          78,\n          23\n        ],\n        \"semantic_type\": \"\",\n        \"description\": \"\"\n      }\n    },\n    {\n      \"column\": \"writing score\",\n      \"properties\": {\n        \"dtype\": \"number\",\n        \"std\": 15,\n        \"min\": 10,\n        \"max\": 100,\n        \"num_unique_values\": 77,\n        \"samples\": [\n          75,\n          76\n        ],\n        \"semantic_type\": \"\",\n        \"description\": \"\"\n      }\n    }\n  ]\n}"
            }
          },
          "metadata": {},
          "execution_count": 2
        }
      ]
    },
    {
      "cell_type": "markdown",
      "source": [
        "I.Handle missing values."
      ],
      "metadata": {
        "id": "6ebp8N9UNpOn"
      }
    },
    {
      "cell_type": "code",
      "source": [
        "# Check for missing values\n",
        "print(df.isnull().sum())"
      ],
      "metadata": {
        "colab": {
          "base_uri": "https://localhost:8080/"
        },
        "id": "_xg8hNoXNltq",
        "outputId": "55d6a0fb-9fd8-43db-cf83-2d12c79a57e4"
      },
      "execution_count": null,
      "outputs": [
        {
          "output_type": "stream",
          "name": "stdout",
          "text": [
            "gender                          0\n",
            "race/ethnicity                  0\n",
            "parental level of education     0\n",
            "lunch                           0\n",
            "test preparation course         0\n",
            "math score                     32\n",
            "reading score                   0\n",
            "writing score                   0\n",
            "dtype: int64\n"
          ]
        }
      ]
    },
    {
      "cell_type": "code",
      "source": [
        "# Handling Missing Values\n",
        "\n",
        "# Mean\n",
        "df['math score'] = df['math score'].fillna(df['math score'].mean())\n",
        "\n",
        "# Checking for missing values\n",
        "missing_values = df.isnull().sum()\n",
        "print(missing_values)"
      ],
      "metadata": {
        "colab": {
          "base_uri": "https://localhost:8080/"
        },
        "id": "LqcTQyiMNvIL",
        "outputId": "048c26da-7ef7-4b13-a115-4c69ab5e0b25"
      },
      "execution_count": null,
      "outputs": [
        {
          "output_type": "stream",
          "name": "stdout",
          "text": [
            "gender                         0\n",
            "race/ethnicity                 0\n",
            "parental level of education    0\n",
            "lunch                          0\n",
            "test preparation course        0\n",
            "math score                     0\n",
            "reading score                  0\n",
            "writing score                  0\n",
            "dtype: int64\n"
          ]
        }
      ]
    },
    {
      "cell_type": "code",
      "source": [
        "# Check data types and anomalies\n",
        "print(df.dtypes)"
      ],
      "metadata": {
        "colab": {
          "base_uri": "https://localhost:8080/"
        },
        "id": "T2KQRgPNNz8q",
        "outputId": "e333cae2-80a2-49e4-fb23-53ef1c038da4"
      },
      "execution_count": null,
      "outputs": [
        {
          "output_type": "stream",
          "name": "stdout",
          "text": [
            "gender                          object\n",
            "race/ethnicity                  object\n",
            "parental level of education     object\n",
            "lunch                           object\n",
            "test preparation course         object\n",
            "math score                     float64\n",
            "reading score                  float64\n",
            "writing score                  float64\n",
            "dtype: object\n"
          ]
        }
      ]
    },
    {
      "cell_type": "markdown",
      "source": [
        "B. Feature Distribution:"
      ],
      "metadata": {
        "id": "FLTeN7sfXKFW"
      }
    },
    {
      "cell_type": "code",
      "source": [
        "# Plot a histogram of the math score\n",
        "plt.hist(df['math score'], bins=20, color='blue', edgecolor='black')\n",
        "plt.title('Histogram of Math Score')\n",
        "plt.xlabel('Math Score')\n",
        "plt.ylabel('Frequency')\n",
        "plt.show()\n"
      ],
      "metadata": {
        "colab": {
          "base_uri": "https://localhost:8080/",
          "height": 472
        },
        "id": "fAO2fkKQOIFs",
        "outputId": "312dd46f-f7c9-4904-c441-56329206de10"
      },
      "execution_count": null,
      "outputs": [
        {
          "output_type": "display_data",
          "data": {
            "text/plain": [
              "<Figure size 640x480 with 1 Axes>"
            ],
            "image/png": "[encoded data removed]"
          },
          "metadata": {}
        }
      ]
    },
    {
      "cell_type": "markdown",
      "source": [
        "In the histogram shows that the majority of students achieved math scores in the middle range, with fewer students performing exceptionally well or poorly."
      ],
      "metadata": {
        "id": "1Q2ScjAtXyAq"
      }
    },
    {
      "cell_type": "code",
      "source": [
        "# Check if the distribution follows a normal distribution\n",
        "from scipy.stats import shapiro\n",
        "stat, p = shapiro(df['math score'])\n",
        "print(f'Shapiro-Wilk test p-value: {p}')\n",
        "if p > 0.05:\n",
        "    print('Math score distribution is likely normal')\n",
        "else:\n",
        "    print('Math score distribution is not normal')\n"
      ],
      "metadata": {
        "colab": {
          "base_uri": "https://localhost:8080/"
        },
        "id": "0wGqC7xmONs0",
        "outputId": "07544133-d78a-449e-e6ff-bff92170ebc1"
      },
      "execution_count": null,
      "outputs": [
        {
          "output_type": "stream",
          "name": "stdout",
          "text": [
            "Shapiro-Wilk test p-value: 2.0083482753263096e-05\n",
            "Math score distribution is not normal\n"
          ]
        }
      ]
    },
    {
      "cell_type": "markdown",
      "source": [
        "It is important to verify whether the data follows normal distribution before applying such methods.for that I used the Shapiro-Wilk test to determine if the math score distribution is normal or not normal because this fuction use for small dataset to moderate sample sizes."
      ],
      "metadata": {
        "id": "R4vCwCueYlJ1"
      }
    },
    {
      "cell_type": "markdown",
      "source": [
        "C. Data Preparation:"
      ],
      "metadata": {
        "id": "mZBAjzVufW2h"
      }
    },
    {
      "cell_type": "code",
      "source": [
        "# Normalize numeric features\n",
        "scaler = StandardScaler()\n",
        "df[['math score', 'reading score', 'writing score']] = scaler.fit_transform(df[['math score', 'reading score', 'writing score']])\n",
        "\n",
        "def frequency_encoding(df, columns): # Changed df_new to df\n",
        "    for col in columns:\n",
        "        # Calculate frequency of each category\n",
        "        frequency_map = df[col].value_counts(normalize=True).to_dict()\n",
        "\n",
        "        # Map frequencies to the original column\n",
        "        df[col + '_freq_encoded'] = df[col].map(frequency_map)\n",
        "\n",
        "    # Drop the original categorical columns\n",
        "    df = df.drop(columns=columns, axis=1)\n",
        "\n",
        "    return df\n",
        "\n",
        "# Example usage:\n",
        "categorical_cols = ['gender','race/ethnicity','parental level of education']\n",
        "df_encoded = frequency_encoding(df, categorical_cols) # Changed df_new to df\n",
        "\n",
        "print(df_encoded.head())"
      ],
      "metadata": {
        "colab": {
          "base_uri": "https://localhost:8080/"
        },
        "id": "ilqqFFhrOV9E",
        "outputId": "a377a0a6-dc17-4515-8ca9-d5d5dcc09939"
      },
      "execution_count": null,
      "outputs": [
        {
          "output_type": "stream",
          "name": "stdout",
          "text": [
            "   lunch  test preparation course  math score  reading score  writing score  \\\n",
            "0      1                        1    0.392427       0.193999       0.391492   \n",
            "1      1                        0    0.190584       1.427476       1.313269   \n",
            "2      1                        1    1.603488       1.770109       1.642475   \n",
            "3      0                        1   -1.289602      -0.833899      -1.583744   \n",
            "4      1                        1    0.661552       0.605158       0.457333   \n",
            "\n",
            "   total score performance  gender_freq_encoded  race/ethnicity_freq_encoded  \\\n",
            "0     0.977917        high                0.518                        0.190   \n",
            "1     2.931328        high                0.518                        0.319   \n",
            "2     5.016071        high                0.518                        0.190   \n",
            "3    -3.707245         low                0.482                        0.089   \n",
            "4     1.724042        high                0.482                        0.319   \n",
            "\n",
            "   parental level of education_freq_encoded  \n",
            "0                                     0.118  \n",
            "1                                     0.226  \n",
            "2                                     0.059  \n",
            "3                                     0.222  \n",
            "4                                     0.226  \n"
          ]
        }
      ]
    },
    {
      "cell_type": "markdown",
      "source": [
        "Here I Normalize the numeric features using standardization  to ensures that this features contribute equally to the model, preventing bias due to scale differences.And Encoded categorical features which converts into a numerical format."
      ],
      "metadata": {
        "id": "LNca1sXaa3qr"
      }
    },
    {
      "cell_type": "markdown",
      "source": [
        "D. Feature Selection:"
      ],
      "metadata": {
        "id": "L4V7Yvcngy1_"
      }
    },
    {
      "cell_type": "code",
      "source": [
        "X = df.select_dtypes(include=['number']).drop(\"math score\", axis=1)\n",
        "y = df[\"math score\"]\n",
        "\n",
        "\n",
        "X_train, X_test, y_train, y_test = train_test_split(X, y, test_size=0.5, random_state=42)\n",
        "\n",
        "model = LinearRegression()\n",
        "\n",
        "rfe = RFE(estimator=model)\n",
        "rfe.fit(X_train, y_train)\n",
        "\n",
        "selected_features = X.columns[rfe.support_]\n",
        "print(\"Selected Features:\", selected_features)"
      ],
      "metadata": {
        "colab": {
          "base_uri": "https://localhost:8080/"
        },
        "id": "HTdKGnlbQAxA",
        "outputId": "28afcb9e-69ce-4c71-b8df-c37d16810689"
      },
      "execution_count": null,
      "outputs": [
        {
          "output_type": "stream",
          "name": "stdout",
          "text": [
            "Selected Features: Index(['gender', 'race/ethnicity', 'reading score', 'writing score',\n",
            "       'total score'],\n",
            "      dtype='object')\n"
          ]
        }
      ]
    },
    {
      "cell_type": "markdown",
      "source": [
        "Here I choose this features because they directly measure academic performance (reading score, writing score, and total score) while also providing important demographic context (gender and race/ethnicity). This combination allows the model to capture both the student's academic ability and the potential influence of their background on performance."
      ],
      "metadata": {
        "id": "kcvoWTQjhLDe"
      }
    },
    {
      "cell_type": "markdown",
      "source": [
        "**D. II.Classification Model**"
      ],
      "metadata": {
        "id": "MaF1q_cpg4kg"
      }
    },
    {
      "cell_type": "code",
      "source": [
        "# Create a binary target based on a threshold of total scores\n",
        "df['total score'] = df['math score'] + df['reading score'] + df['writing score']\n",
        "threshold = df['total score'].median()\n",
        "df['performance'] = df['total score'].apply(lambda x: 'high' if x > threshold else 'low')\n",
        "\n",
        "# Split the data into training and testing sets\n",
        "X = df.drop(['math score', 'reading score', 'writing score', 'total score', 'performance'], axis=1)\n",
        "y = df['performance']\n",
        "X_train, X_test, y_train, y_test = train_test_split(X, y, test_size=0.2, random_state=42)\n",
        "\n",
        "# Train a Logistic Regression model\n",
        "log_reg = LogisticRegression()\n",
        "log_reg.fit(X_train, y_train)\n",
        "y_pred_log = log_reg.predict(X_test)\n",
        "\n",
        "# Evaluate the Logistic Regression model\n",
        "print('Logistic Regression Metrics:')\n",
        "print('Accuracy:', accuracy_score(y_test, y_pred_log))\n",
        "print('Precision:', precision_score(y_test, y_pred_log, pos_label='high'))\n",
        "print('Recall:', recall_score(y_test, y_pred_log, pos_label='high'))\n",
        "print('F1 Score:', f1_score(y_test, y_pred_log, pos_label='high'))\n",
        "\n",
        "\n",
        "# Plot the confusion matrix for Logistic Regression\n",
        "cm_log = confusion_matrix(y_test, y_pred_log, labels=['high', 'low'])\n",
        "sns.heatmap(cm_log, annot=True, fmt='d', cmap='Blues', xticklabels=['High', 'Low'], yticklabels=['High', 'Low'])\n",
        "plt.title('Confusion Matrix for Logistic Regression')\n",
        "plt.xlabel('Predicted')\n",
        "plt.ylabel('Actual')\n",
        "plt.show()\n",
        "\n"
      ],
      "metadata": {
        "colab": {
          "base_uri": "https://localhost:8080/",
          "height": 563
        },
        "id": "aIkS8qgYRIhs",
        "outputId": "530e9213-cce6-4052-fa56-509d0cb370d1"
      },
      "execution_count": null,
      "outputs": [
        {
          "output_type": "stream",
          "name": "stdout",
          "text": [
            "Logistic Regression Metrics:\n",
            "Accuracy: 0.7\n",
            "Precision: 0.696969696969697\n",
            "Recall: 0.696969696969697\n",
            "F1 Score: 0.696969696969697\n"
          ]
        },
        {
          "output_type": "display_data",
          "data": {
            "text/plain": [
              "<Figure size 640x480 with 2 Axes>"
            ],
            "image/png": "[encoded data removed]"
          },
          "metadata": {}
        }
      ]
    },
    {
      "cell_type": "markdown",
      "source": [
        "In thi graph we can seen that\n",
        "True Positives (TP): 70 (The model correctly predicted 70 students as \"High\" performance).\n",
        "\n",
        "False Positives (FP): 30 (The model incorrectly predicted 30 students as \"High\" when they were actually \"Low\").\n",
        "\n",
        "True Negatives (TN): 69 (The model correctly predicted 69 students as \"Low\" performance).\n",
        "\n",
        "False Negatives (FN): 30 (The model incorrectly predicted 30 students as \"Low\" when they were actually \"High\").\n",
        "\n",
        "The confusion matrix provides a detailed breakdown of the model's performance, highlighting both its strengths and weaknesses. In this case, the Logistic Regression model has a balanced performance with an accuracy of 70%, precision of 70%, and recall of 70%. However, there is room for improvement, particularly in reducing false positives and false negatives, which could be addressed through further model tuning or feature engineering."
      ],
      "metadata": {
        "id": "YeiUHfl4kJGu"
      }
    },
    {
      "cell_type": "code",
      "source": [
        "# Train a Random Forest classifier\n",
        "rf = RandomForestClassifier(n_estimators=100, random_state=42)\n",
        "rf.fit(X_train, y_train)\n",
        "y_pred_rf = rf.predict(X_test)\n",
        "\n",
        "# Evaluate the Random Forest model\n",
        "print('Random Forest Metrics:')\n",
        "print('Accuracy:', accuracy_score(y_test, y_pred_rf))\n",
        "print('Precision:', precision_score(y_test, y_pred_rf, pos_label='high'))\n",
        "print('Recall:', recall_score(y_test, y_pred_rf, pos_label='high'))\n",
        "print('F1 Score:', f1_score(y_test, y_pred_rf, pos_label='high'))\n",
        "\n",
        "# Plot the confusion matrix for Random Forest\n",
        "cm_rf = confusion_matrix(y_test, y_pred_rf, labels=['high', 'low'])\n",
        "sns.heatmap(cm_rf, annot=True, fmt='d', cmap='Blues', xticklabels=['High', 'Low'], yticklabels=['High', 'Low'])\n",
        "plt.title('Confusion Matrix for Random Forest')\n",
        "plt.xlabel('Predicted')\n",
        "plt.ylabel('Actual')\n",
        "plt.show()"
      ],
      "metadata": {
        "colab": {
          "base_uri": "https://localhost:8080/",
          "height": 563
        },
        "id": "ZmiKwvy7SAl2",
        "outputId": "bb93ece1-bddd-4fe2-c226-2238c75cb571"
      },
      "execution_count": null,
      "outputs": [
        {
          "output_type": "stream",
          "name": "stdout",
          "text": [
            "Random Forest Metrics:\n",
            "Accuracy: 0.575\n",
            "Precision: 0.574468085106383\n",
            "Recall: 0.5454545454545454\n",
            "F1 Score: 0.5595854922279793\n"
          ]
        },
        {
          "output_type": "display_data",
          "data": {
            "text/plain": [
              "<Figure size 640x480 with 2 Axes>"
            ],
            "image/png": "[encoded data removed]"
          },
          "metadata": {}
        }
      ]
    },
    {
      "cell_type": "markdown",
      "source": [
        "Logistic Regression and Random Forest models are interpretable and can provide insights into which features are most important for predicting performance that's  why this methos are suitable for this dataset."
      ],
      "metadata": {
        "id": "Lsyw0YT6h2x8"
      }
    },
    {
      "cell_type": "markdown",
      "source": [
        "4.Creative Task: Neural Networks"
      ],
      "metadata": {
        "id": "-4AzrrY4ihOP"
      }
    },
    {
      "cell_type": "code",
      "source": [
        "# Train a Neural Network with three hidden layers\n",
        "nn = MLPClassifier(hidden_layer_sizes=(100, 50, 25), max_iter=500, activation='relu', solver='adam', random_state=42)\n",
        "nn.fit(X_train, y_train)\n",
        "y_pred_nn = nn.predict(X_test)\n",
        "\n",
        "# Evaluate the Neural Network model\n",
        "print('Neural Network Metrics:')\n",
        "print('Accuracy:', accuracy_score(y_test, y_pred_nn))\n",
        "print('Precision:', precision_score(y_test, y_pred_nn, pos_label='high'))\n",
        "print('Recall:', recall_score(y_test, y_pred_nn, pos_label='high'))\n",
        "print('F1 Score:', f1_score(y_test, y_pred_nn, pos_label='high'))\n",
        "\n",
        "# Plot the confusion matrix for Neural Network\n",
        "cm_nn = confusion_matrix(y_test, y_pred_nn, labels=['high', 'low'])\n",
        "sns.heatmap(cm_nn, annot=True, fmt='d', cmap='Blues', xticklabels=['High', 'Low'], yticklabels=['High', 'Low'])\n",
        "plt.title('Confusion Matrix for Neural Network')\n",
        "plt.xlabel('Predicted')\n",
        "plt.ylabel('Actual')\n",
        "plt.legend()\n",
        "plt.show()\n",
        "\n",
        "# Visualize the loss and accuracy curves for the Neural Network\n",
        "train_loss = nn.loss_curve_\n",
        "plt.plot(train_loss, label='Training Loss')\n",
        "plt.title('Training Loss Curve')\n",
        "plt.xlabel('Epoch')\n",
        "plt.ylabel('Loss')\n",
        "plt.legend()\n",
        "plt.show()"
      ],
      "metadata": {
        "colab": {
          "base_uri": "https://localhost:8080/",
          "height": 1000
        },
        "id": "XXg9U5kLRZDT",
        "outputId": "5b8600d6-1267-4330-973b-e563c7f93c1b"
      },
      "execution_count": null,
      "outputs": [
        {
          "output_type": "stream",
          "name": "stderr",
          "text": [
            "WARNING:matplotlib.legend:No artists with labels found to put in legend.  Note that artists whose label start with an underscore are ignored when legend() is called with no argument.\n"
          ]
        },
        {
          "output_type": "stream",
          "name": "stdout",
          "text": [
            "Neural Network Metrics:\n",
            "Accuracy: 0.59\n",
            "Precision: 0.6024096385542169\n",
            "Recall: 0.5050505050505051\n",
            "F1 Score: 0.5494505494505495\n"
          ]
        },
        {
          "output_type": "display_data",
          "data": {
            "text/plain": [
              "<Figure size 640x480 with 2 Axes>"
            ],
            "image/png": "[encoded data removed]"
          },
          "metadata": {}
        },
        {
          "output_type": "display_data",
          "data": {
            "text/plain": [
              "<Figure size 640x480 with 1 Axes>"
            ],
            "image/png": "[encoded data removed]"
          },
          "metadata": {}
        }
      ]
    },
    {
      "cell_type": "code",
      "source": [
        "# Summarize the comparison of the models\n",
        "print('Model Comparison:')\n",
        "print('Logistic Regression Accuracy:', accuracy_score(y_test, y_pred_log))\n",
        "print('Random Forest Accuracy:', accuracy_score(y_test, y_pred_rf))\n",
        "print('Neural Network Accuracy:', accuracy_score(y_test, y_pred_nn))\n",
        "\n",
        "# Suggestion to improvements for the Neural Network\n",
        "print('Improvements for Neural Network:')\n",
        "print('- Hyperparameter tuning using GridSearchCV or RandomizedSearchCV')\n",
        "print('- Deeper architectures with more hidden layers')\n",
        "print('- Different activation functions (e.g., tanh, leaky ReLU)')\n",
        "print('- Regularization techniques like dropout or L2 regularization')"
      ],
      "metadata": {
        "colab": {
          "base_uri": "https://localhost:8080/"
        },
        "id": "p-KFjLv1RgxP",
        "outputId": "66ec239c-2d99-42eb-de26-67c6e1a90c51"
      },
      "execution_count": null,
      "outputs": [
        {
          "output_type": "stream",
          "name": "stdout",
          "text": [
            "Model Comparison:\n",
            "Logistic Regression Accuracy: 0.7\n",
            "Random Forest Accuracy: 0.575\n",
            "Neural Network Accuracy: 0.59\n",
            "Improvements for Neural Network:\n",
            "- Hyperparameter tuning using GridSearchCV or RandomizedSearchCV\n",
            "- Deeper architectures with more hidden layers\n",
            "- Different activation functions (e.g., tanh, leaky ReLU)\n",
            "- Regularization techniques like dropout or L2 regularization\n"
          ]
        }
      ]
    },
    {
      "cell_type": "markdown",
      "source": [
        "5.Real-World Applications\n",
        "\n",
        "In a real-world scenario, this model could be used in educational institutions to predict student performance and provide personalized learning plans. For example, if a student is predicted to have low performance, the school could offer additional tutoring or resources to help them improve.Additionally by continuously updating the model with new data, the predictions can become more accurate over time also the model can be integrated into a learning management system (LMS) to provide real-time feedback to students and teachers."
      ],
      "metadata": {
        "id": "59I1y-Z2jA7G"
      }
    }
  ]
}